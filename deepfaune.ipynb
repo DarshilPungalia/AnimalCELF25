{
 "cells": [
  {
   "cell_type": "code",
   "execution_count": 1,
   "id": "93481334",
   "metadata": {},
   "outputs": [],
   "source": [
    "from PytorchWildlife import detection as pw_detection"
   ]
  },
  {
   "cell_type": "code",
   "execution_count": 2,
   "id": "e47229dd",
   "metadata": {},
   "outputs": [
    {
     "name": "stdout",
     "output_type": "stream",
     "text": [
      "Ultralytics 8.3.121  Python-3.11.9 torch-2.7.0+cpu CPU (AMD Ryzen 7 7435HS)\n",
      "Model summary (fused): 72 layers, 11,126,745 parameters, 0 gradients, 28.4 GFLOPs\n"
     ]
    }
   ],
   "source": [
    "deep_faune = pw_detection.DeepfauneDetector(device='cuda')"
   ]
  },
  {
   "cell_type": "code",
   "execution_count": null,
   "id": "c85794f2",
   "metadata": {},
   "outputs": [
    {
     "name": "stderr",
     "output_type": "stream",
     "text": [
      "0it [00:00, ?it/s]\n"
     ]
    }
   ],
   "source": [
    "\n",
    "detect = deep_faune.single_image_detection(r'C:\\Users\\LENOVO\\Desktop\\AnimalCELF25\\images\\LynxID2025\\database\\images\\LynxID2025_lynx_00\\47a04afea9a27f2e9987bd90b52c6566820af1ca3db87a9d11bd217a1375a07b.jpg')"
   ]
  },
  {
   "cell_type": "code",
   "execution_count": 5,
   "id": "132afc65",
   "metadata": {},
   "outputs": [
    {
     "data": {
      "text/plain": [
       "960"
      ]
     },
     "execution_count": 5,
     "metadata": {},
     "output_type": "execute_result"
    }
   ],
   "source": [
    "deep_faune.IMAGE_SIZE"
   ]
  }
 ],
 "metadata": {
  "kernelspec": {
   "display_name": "Python 3",
   "language": "python",
   "name": "python3"
  },
  "language_info": {
   "codemirror_mode": {
    "name": "ipython",
    "version": 3
   },
   "file_extension": ".py",
   "mimetype": "text/x-python",
   "name": "python",
   "nbconvert_exporter": "python",
   "pygments_lexer": "ipython3",
   "version": "3.11.9"
  }
 },
 "nbformat": 4,
 "nbformat_minor": 5
}
